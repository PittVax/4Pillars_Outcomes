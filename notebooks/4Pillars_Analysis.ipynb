{
 "cells": [
  {
   "cell_type": "markdown",
   "metadata": {},
   "source": [
    "## Setup"
   ]
  },
  {
   "cell_type": "code",
   "execution_count": null,
   "metadata": {},
   "outputs": [],
   "source": [
    "# References\n",
    "# https://pythonfordatascience.org/anova-python/\n",
    "import matplotlib.pyplot as plt\n",
    "import pandas as pd\n",
    "import scipy.stats as stats\n",
    "import statsmodels.api as sm\n",
    "from statsmodels.formula.api import ols\n",
    "import xlsxwriter\n",
    "import time\n",
    "# import researchpy as rp\n",
    "\n",
    "# Import internal modules\n",
    "%run 4Pillars_Helpers.ipynb\n",
    "\n",
    "# Set logging level\n",
    "logger.setLevel(logging.INFO)\n",
    "# Load data\n",
    "diDfs = get_data(convert=False)\n",
    "outcomes = [\n",
    "    'FLU_VAX_RATE', 'FLU_MISSED_OPS_RATE', 'PNEUMO_VAX_RATE',\n",
    "    'PNEUMO_MISSED_OPS_RATE', 'PCV_VAX_RATE', 'PCV_MISSED_OPS_RATE',\n",
    "    'TDAP_VAX_RATE', 'TDAP_MISSED_OPS_RATE', 'TD_VAX_RATE',\n",
    "    'TD_MISSED_OPS_RATE', 'ZOST_VAX_RATE', 'ZOST_MISSED_OPS_RATE'\n",
    "]\n",
    "vaxVars = ['FLU', 'PNEUMO', 'PCV', 'TDAP', 'TD', 'ZOST']\n",
    "\n",
    "columnLabels = {\n",
    "    'PAT_MRN_ID': 'Patient ID',\n",
    "    'LOC_ID': 'Location ID',\n",
    "    'AGE_60_64': '60-64',\n",
    "    'AGE_65PLUS': 'Over 65',\n",
    "    'BASELINE': 'Time period',\n",
    "    'PHASE': 'Intervention phase',\n",
    "    'BIRTH_DATE': 'Birth date',\n",
    "    'FIRST_FLU_VISIT_DT': 'First visit of flu season',\n",
    "    'FIRST_VISIT_DT': 'First visit during time period',\n",
    "    'FLU_AT_VISIT': 'Flu vaccine administered at a visit',\n",
    "    'FLU_BEFORE_FIRST_VIS': 'Flu vaccine before first visit',\n",
    "    'FLU_ELIGIBLE': 'Flu vaccine eligible',\n",
    "    'FLU_MISSED_OPS': 'Flu missed opportunities',\n",
    "    'FLU_VACCINATED': 'Current flu immunization',\n",
    "    'FLU_VACC_ELSEWHERE': 'Flu vaccine administered elsewhere',\n",
    "    'LAST_FLU_DT': 'Last visit of flu season',\n",
    "    'LAST_PCV_DT': 'Last PCV vaccination',\n",
    "    'LAST_PNEUMO_DT': 'Last pneumo vaccination',\n",
    "    'LAST_TDAP_DT': 'Last Tdap vaccination',\n",
    "    'LAST_TD_DT': 'Last TD vaccination',\n",
    "    'LAST_ZOST_DT': 'Last zoster vaccination',\n",
    "    'NUM_FLU_ENCS': 'Visits during flu season',\n",
    "    'NUM_OF_ENCS': 'Number of visits during time period',\n",
    "    'PCV_AT_VISIT': 'PCV administered at a visit',\n",
    "    'PCV_BEFORE_FIRST_VIS': 'PCV administered before first visit',\n",
    "    'PCV_ELIGIBLE': 'PCV eligible',\n",
    "    'PCV_MISSED_OPS': 'PCV missed opportunities',\n",
    "    'PCV_VACCINATED': 'Current PCV immunization',\n",
    "    'PCV_VACC_ELSEWHERE': 'PCV administered elsewhere',\n",
    "    'PNEUMO_AT_VISIT': 'Pneumo vaccine administered at a visit',\n",
    "    'PNEUMO_BEFORE_FIRST_VIS': 'Pneumo vaccine before first visit',\n",
    "    'PNEUMO_ELIGIBLE': 'Pneumo vaccine eligible',\n",
    "    'PNEUMO_MISSED_OPS': 'Pneumo missed opportunities',\n",
    "    'PNEUMO_VACCINATED': 'Current pneumo immunization',\n",
    "    'PNEUMO_VACC_ELSEWHERE': 'Pneumo vaccine administered elsewhere',\n",
    "    'TDAP_AT_VISIT': 'Tdap administered at a visit',\n",
    "    'TDAP_BEFORE_FIRST_VIS': 'Tdap administered before first visit',\n",
    "    'TDAP_ELIGIBLE': 'Tdap vaccine eligible',\n",
    "    'TDAP_MISSED_OPS': 'Tdap missed opportunities',\n",
    "    'TDAP_VACCINATED': 'Current Tdap immunization',\n",
    "    'TDAP_VACC_ELSEWHERE': 'Tdap vaccine administered elsewhere',\n",
    "    'TD_AT_VISIT': 'Td administered at a visit',\n",
    "    'TD_BEFORE_FIRST_VIS': 'Td administered before first visit',\n",
    "    'TD_ELIGIBLE': 'Td vaccine eligible',\n",
    "    'TD_MISSED_OPS': 'Td missed opportunities',\n",
    "    'TD_VACCINATED': 'Current Td immunization',\n",
    "    'TD_VACC_ELSEWHERE': 'Td administered elsewhere',\n",
    "    'ZOST_AT_VISIT': 'Zoster vaccine administered at a visit',\n",
    "    'ZOST_BEFORE_FIRST_VIS': 'Zoster vaccine administered before first visit',\n",
    "    'ZOST_ELIGIBLE': 'Zoster vaccine eligible',\n",
    "    'ZOST_MISSED_OPS': 'Zoster vaccine missed opportunities',\n",
    "    'ZOST_VACCINATED': 'Current zoster immunization',\n",
    "    'ZOST_VACC_ELSEWHERE': 'Zoster vaccine administered elsewhere',\n",
    "    'FLU_VAX_RATE': 'Flu vaccination rate',\n",
    "    'FLU_MISSED_OPS_RATE': 'Flu vaccine missed opportunities rate',\n",
    "    'PNEUMO_VAX_RATE': 'Pneumo vaccination rate',\n",
    "    'PNEUMO_MISSED_OPS_RATE': 'Pneumo vaccine missed opportunities rate',\n",
    "    'PCV_VAX_RATE': 'PCV vaccination rate',\n",
    "    'PCV_MISSED_OPS_RATE': 'PCV vaccine missed opportunities rate',\n",
    "    'TDAP_VAX_RATE': 'Tdap vaccination rate',\n",
    "    'TDAP_MISSED_OPS_RATE': 'Tdap vaccine missed opportunities rate',\n",
    "    'TD_VAX_RATE': 'Td vaccination rate',\n",
    "    'TD_MISSED_OPS_RATE': 'Td vaccine missed opportunities rate',\n",
    "    'ZOST_VAX_RATE': 'Zoster vaccination rate',\n",
    "    'ZOST_MISSED_OPS_RATE': 'Zoster vaccine missed opportunities rate',\n",
    "    'WIC': 'Walk-in-clinic',\n",
    "    'FLU': 'Influenza',\n",
    "    'PNEUMO': 'Pneumo',\n",
    "    'TDAP': 'Tdap',\n",
    "    'TD': 'Td',\n",
    "    'ZOST': 'Zoster',\n",
    "    'AT_VISIT': 'Vaccine administered at a visit',\n",
    "    'BEFORE_FIRST_VIS': 'Vaccine administered before first visit',\n",
    "    'ELIGIBLE': 'Vaccine eligible',\n",
    "    'MISSED_OPS': 'Vaccine missed opportunities',\n",
    "    'VACCINATED': 'Immunized',\n",
    "    'VACC_ELSEWHERE': 'Vaccine administered elsewhere',\n",
    "    'VAX_RATE': 'Vaccination rate',\n",
    "    'MISSED_OPS_RATE': 'Vaccine missed opportunities rate',\n",
    "    'df': 'Df',\n",
    "    'N_PATIENT': 'Patients',\n",
    "    'sum_sq': 'Sum sq',\n",
    "    'Date of intervention': 'Start date of intervention',\n",
    "    'PHASE': 'Phase'\n",
    "}"
   ]
  },
  {
   "cell_type": "markdown",
   "metadata": {},
   "source": [
    "## Data\n",
    "* Data is available in the dictionary `diDfs`. DataFrames can be selected by index as `diDfs['dfIndex']`.\n",
    "* Underscores (`_`) precede an aggregated feature (`_Outcomes`) then the aggregation level. (`_Locs`).\n",
    "* `dfCombined` contains all cleaned EMR data in tidy format.\n",
    "    * `dfWithWic` excludes walk-in-clinic departments, but retains patients with visits to that department.\n",
    "    * `dfNoWic` excludes walk-in-clinic departments and all patients with visits to the that department.\n",
    "    * `dfDropWic` excludes all locations with >= 5% difference between the first two strategies.\n",
    "* `dfSites` contains all practice information in tidy format.\n",
    "    * `dfSites_Locs` is practice information aggregated to location-level."
   ]
  },
  {
   "cell_type": "markdown",
   "metadata": {},
   "source": [
    "### Patient-level data\n",
    "Patient-level data came aggregated to the time period and location. A location is a group of billing departments that roll up to a single billing entity. For example a location may include Dr. Smith's East Office, Dr. Smith's West Office and Dr. Smith's Walk-in-clinics at both offices. A partial selection of the dataset is shown below.\n",
    "* Columns show the variables collected from Epic including:  \n",
    "    * the date of the first visit the patient had to any department within the Location during the time frame  \n",
    "    * the total number of encounters to any department(s) of the location during the time frame  \n",
    "    * vaccination status before the first visit of the time frame  \n",
    "    * vaccine eligibility  \n",
    "    * vaccine administration during the time frame  \n",
    "    * vaccine administration at a visit  \n",
    "* Vaccination outcomes\n",
    "    * `_VAX_RATE` is ratio of vaccinated patients to total location population\n",
    "    * `_MISSED_OPS_RATE` is the ratio of visits by unvaccinated patients to total visits  "
   ]
  },
  {
   "cell_type": "code",
   "execution_count": null,
   "metadata": {},
   "outputs": [],
   "source": [
    "# Redacted for privacy\n",
    "# diDfs['dfCombined'].set_index(\n",
    "#     ['PAT_MRN_ID', 'BASELINE', 'LOC_ID', 'DEPT_ID',\n",
    "#      'PRACTICE']).sort_index().head()"
   ]
  },
  {
   "cell_type": "markdown",
   "metadata": {},
   "source": [
    "###  Location-level aggregated data\n",
    "The patient-level data is aggregated to the location using sum, min, or max as noted in the source code.  \n",
    "* Each row is a location.\n",
    "* N = the count of patients with at least one visit to any department in the location."
   ]
  },
  {
   "cell_type": "code",
   "execution_count": null,
   "metadata": {},
   "outputs": [],
   "source": [
    "# Redacted for privancy\n",
    "# diDfs['dfWithWic'].set_index(['BASELINE', 'LOC_ID']).head()"
   ]
  },
  {
   "cell_type": "markdown",
   "metadata": {},
   "source": [
    "### Site information"
   ]
  },
  {
   "cell_type": "code",
   "execution_count": null,
   "metadata": {},
   "outputs": [],
   "source": [
    "# Redacted for privacy\n",
    "# diDfs['dfSites']"
   ]
  },
  {
   "cell_type": "markdown",
   "metadata": {},
   "source": [
    "## Analyses"
   ]
  },
  {
   "cell_type": "markdown",
   "metadata": {},
   "source": [
    "### Differences between WIC & NoWIC\n",
    "Location data was aggregated using two different strategies to tabulate visits to the walk-in-clinics. Due to the structure of the available data, excluding visits to the walk-in-clinics may or may not bias results for the location. Vaccination outcomes may differ in this department for several reasons. From a provider perspective, walk-in-clinic appointments are focused more on an emergent conditions and less on preventive care. Though vaccination is rarely contra-indicated by the typical conditions addressed in walk-in-clinics, it may be overshadowed by more urgent complaints. Similarly, from a patient perspective, vaccination at a walk-in-clinic visit may be perceived as too burdensome to consider while injured or ill. Likelihood of vaccination may also vary from other departments as not all patients seen in a location's walk-in-clinic are necessarily primary care patients at the location. That is, patients whose primary care provider practices at the location often seek urgent treatment at the location's walk-in-clinic, but the reverse may not be true.\n",
    "\n",
    "To assess the impact of two strategies for aggregating patient-level data to location data, a test of the conditions is necessary.  \n",
    "* Strategy 1 (Filter) returns a data set which includes patients seen in the locations' walk-in-clinics in the aggregated location counts. If a large proportion of walk-in patients do not also visit the location for preventive services, the population served by the clinic will include a number of visits where assessment of vaccination may differ from its priority during a scheduled visit. Consequently, the location will show more missed opportunities if walk-in visits do not consider vaccine status with the same importance as during primary care visits.  \n",
    "* Strategy 2 (Exclude) returns a data set which excludes patients seen in walk-in-clinics from location visit counts. This eliminates the count of visits from patients whose medical home resides elsewhere, but penalizes sites who do prioritize vaccination at walk-in clinics. For example locations who code drop-in vaccination clinics as walk-in visits or whose clinical staff do use urgent care visits as an opportunity to vaccinate, will not be credited for these efforts.  \n",
    "* Strategy 3 (Drop) returns a data set which excludes all locations with more than a 5% difference between patient counts produced by strategy 1 and strategy 2.\n",
    "\n",
    "Analysis below shows that all strategies yield similar results. Data from strategy 2 will be used for the remainder of analyses."
   ]
  },
  {
   "cell_type": "markdown",
   "metadata": {},
   "source": [
    "#### Does strategy for aggregating WIC visits matter?\n",
    "No\n",
    "Charts below compare the 3 strategies to aggregate results with the available data.\n",
    "All 3 strategies yield similar distributions.\n",
    "ANOVAs are significant for the same outcomes\n",
    "\n",
    "Conclusion: Use Strategy 2 (`dfNoWic`) which represents the desired context"
   ]
  },
  {
   "cell_type": "code",
   "execution_count": null,
   "metadata": {},
   "outputs": [],
   "source": [
    "dfDropWic_Outcomes_Locs = diDfs['dfDropWic_Outcomes_Locs']\n",
    "dfDropWic_Outcomes_Locs['WIC'] = 'Drop'\n",
    "dfNoWic_Outcomes_Locs = diDfs['dfNoWic_Outcomes_Locs']\n",
    "dfNoWic_Outcomes_Locs['WIC'] = 'Exclude'\n",
    "dfWithWic_Outcomes_Locs = diDfs['dfWithWic_Outcomes_Locs']\n",
    "dfWithWic_Outcomes_Locs['WIC'] = 'Filter'\n",
    "data = pd.concat(\n",
    "    [dfWithWic_Outcomes_Locs, dfNoWic_Outcomes_Locs, dfDropWic_Outcomes_Locs])\n",
    "idCols = ['BASELINE', 'LOC_ID', 'WIC']\n",
    "cols = idCols + outcomes\n",
    "\n",
    "df = data.melt(id_vars=idCols, value_vars=outcomes)\n",
    "df[['Vaccine', 'Variable']] = df['variable'].str.split('_', n=1, expand=True)\n",
    "\n",
    "df = df.replace(columnLabels)\n",
    "\n",
    "df['BASELINE'] = df['BASELINE'].replace({True: 'Baseline', False: 'Follow-up'})\n",
    "df['Variable'] = df['Variable'].replace({\n",
    "    'VAX_RATE':\n",
    "    'Vaccination rate',\n",
    "    'MISSED_OPS_RATE':\n",
    "    'Missed opportunities rate'\n",
    "})\n",
    "\n",
    "timestr = time.strftime(\"%Y%m%d-%H%M\")\n",
    "for vax, df in df.groupby(['Vaccine']):\n",
    "    plot = sns.catplot(x='BASELINE',\n",
    "                       order=['Baseline', 'Follow-up'],\n",
    "                       y=\"value\",\n",
    "                       kind='violin',\n",
    "                       hue='WIC',\n",
    "                       col=\"Variable\",\n",
    "                       row='Vaccine',\n",
    "                       sharex=True,\n",
    "                       sharey=False,\n",
    "                       margin_titles=False,\n",
    "                       data=df)\n",
    "    plt.show(plot)\n",
    "#     plot.savefig(os.path.join(projectRoot, 'reports', 'figures', 'plt_violin_' + vax + \"_\" + timestr + '.png'))"
   ]
  },
  {
   "cell_type": "code",
   "execution_count": null,
   "metadata": {},
   "outputs": [],
   "source": [
    "groupedWic = get_patient_counts(diDfs['dfWithWic'])\n",
    "groupedNoWic = get_patient_counts(diDfs['dfNoWic'])\n",
    "df = groupedWic.join(groupedNoWic, rsuffix='_rt').rename(\n",
    "    columns={\n",
    "        'Patient count': 'Patient count with WIC (Strategy 1)',\n",
    "        'Patient count_rt': 'Patient count without WIC (Strategy 2)'\n",
    "    })\n",
    "\n",
    "df['Percent Difference'] = (df['Patient count with WIC (Strategy 1)'] -\n",
    "                            df['Patient count without WIC (Strategy 2)']) / (\n",
    "                                df['Patient count with WIC (Strategy 1)'] +\n",
    "                                df['Patient count without WIC (Strategy 2)'])\n",
    "print('Differing patient counts from alternative handling of WIC.')\n",
    "df = df[df['Percent Difference'] > 0].query(\n",
    "    'BASELINE != \"**Total**\"').reset_index().sort_values('Percent Difference')\n",
    "df = df.sort_values('Percent Difference')\n",
    "df['> 0.05 Difference'] = np.where(df['Percent Difference'] > .05, '*',\n",
    "                                         '')\n",
    "print('Locations with >= .05 Difference')\n",
    "df.index.name = 'Site ID'\n",
    "df.iloc[:, 2:].to_excel(\n",
    "    os.path.join(projectRoot, 'reports', 'tables', 'wic-strategies.xlsx'))\n",
    "df.iloc[:, 2:]\n",
    "df = df[df['Percent Difference'] > .05].query(\n",
    "    'BASELINE != \"**Total**\"').reset_index().sort_values('Percent Difference')\n",
    "locFilter = list(df['LOC_ID'])\n",
    "locFilter"
   ]
  },
  {
   "cell_type": "markdown",
   "metadata": {},
   "source": [
    "### Descriptives"
   ]
  },
  {
   "cell_type": "markdown",
   "metadata": {},
   "source": [
    "#### Intervention dates"
   ]
  },
  {
   "cell_type": "code",
   "execution_count": null,
   "metadata": {},
   "outputs": [],
   "source": [
    "dfFirstDates = diDfs['dfCombined'].groupby(['BASELINE']).agg({\n",
    "    'FIRST_VISIT_DT':\n",
    "    'min',\n",
    "    'FIRST_FLU_VISIT_DT':\n",
    "    'min',\n",
    "    'LAST_FLU_DT':\n",
    "    'max'\n",
    "}).reset_index()\n",
    "\n",
    "dfFirstDates[dfFirstDates['BASELINE'] == 'Baseline']\n",
    "sites = diDfs['dfSites'].groupby('PHASE').agg({\n",
    "    'Date of intervention': 'min',\n",
    "    'LOC_ID': 'count'\n",
    "}).reset_index().rename(\n",
    "    columns={\n",
    "        'PHASE': 'Phase',\n",
    "        'Date of intervention': 'Intervention start',\n",
    "        'LOC_ID': 'Location count'\n",
    "    })\n",
    "display(sites)\n",
    "display('Total locations = ' + str(sites['Location count'].sum()))\n",
    "dfFirstDates[dfFirstDates['BASELINE'] == 'Follow-up']"
   ]
  },
  {
   "cell_type": "markdown",
   "metadata": {},
   "source": [
    "#### Descriptors"
   ]
  },
  {
   "cell_type": "code",
   "execution_count": null,
   "metadata": {},
   "outputs": [],
   "source": [
    "# Prepare a dataframe\n",
    "dfData = diDfs['dfNoWic'][['LOC_ID', 'BASELINE', 'PAT_MRN_ID', 'Age']].copy()\n",
    "\n",
    "# Merge with phase information (assumes locations that span multiple phases are classified in the first phase)\n",
    "dfSites = diDfs['dfSites'][[\n",
    "    'LOC_ID', 'PHASE', 'Date of intervention'\n",
    "]].dropna().drop_duplicates().groupby(['LOC_ID']).agg({\n",
    "    'Date of intervention': 'first',\n",
    "    'PHASE': 'first'\n",
    "}).reset_index()\n",
    "dfData = pd.merge(left=dfData, right=dfSites, on='LOC_ID')"
   ]
  },
  {
   "cell_type": "markdown",
   "metadata": {},
   "source": [
    "##### By Timepoint"
   ]
  },
  {
   "cell_type": "code",
   "execution_count": null,
   "metadata": {},
   "outputs": [],
   "source": [
    "ageXtime = pd.crosstab(dfData['BASELINE'],\n",
    "                       dfData['Age'],\n",
    "                       margins=True,\n",
    "                       margins_name='Total',\n",
    "                       rownames=[None],\n",
    "                       colnames=[\"\"])\n",
    "\n",
    "display(ageXtime.style.format(\"{:,}\"))\n",
    "ageXtime.to_excel(\n",
    "    os.path.join(projectRoot, 'reports', 'tables', 'ageXtime.xlsx'))"
   ]
  },
  {
   "cell_type": "markdown",
   "metadata": {},
   "source": [
    "##### By Phase"
   ]
  },
  {
   "cell_type": "code",
   "execution_count": null,
   "metadata": {},
   "outputs": [],
   "source": [
    "df = dfData[dfData['BASELINE'] == 'Baseline']\n",
    "phaseXage = pd.crosstab(df['PHASE'],\n",
    "                        df['Age'],\n",
    "                        margins=True,\n",
    "                        margins_name='Total',\n",
    "                        rownames=[None],\n",
    "                        colnames=[\"\"])\n",
    "phaseXage = phaseXage.merge(sites.set_index(['Phase']),\n",
    "                            left_index=True,\n",
    "                            right_index=True).append(\n",
    "                                phaseXage.loc['Total', :]).fillna('')\n",
    "display(phaseXage)\n",
    "phaseXage.to_excel(\n",
    "    os.path.join(projectRoot, 'reports', 'tables', 'phaseXage.xlsx'))"
   ]
  },
  {
   "cell_type": "markdown",
   "metadata": {},
   "source": [
    "##### By location\n",
    "See below"
   ]
  },
  {
   "cell_type": "markdown",
   "metadata": {},
   "source": [
    "#### All Location-level outcomes"
   ]
  },
  {
   "cell_type": "code",
   "execution_count": null,
   "metadata": {},
   "outputs": [],
   "source": [
    "dfData = diDfs['dfNoWic_Outcomes_Locs']\n",
    "# dfData = diDfs['dfNoWic']\n",
    "vaxVars = ['FLU', 'PNEUMO', 'PCV', 'TDAP', 'TD', 'ZOST']\n",
    "\n",
    "\n",
    "def format_with_multiindex(df,\n",
    "                           fmt,\n",
    "                           multiRows=pd.IndexSlice[:],\n",
    "                           multiCols=pd.IndexSlice[:]):\n",
    "    \"\"\"Formats specified values of a multi-indexed dataframe in place\n",
    "    \n",
    "    \"\"\"\n",
    "    df.loc[multiRows, multiCols] = df.loc[multiRows, multiCols].applymap(\n",
    "        fmt.format)\n",
    "    return df\n",
    "\n",
    "# Combined dataset\n",
    "dfComb = pd.DataFrame()\n",
    "# Perform aggregations and summarize by vaccine then generate summary table\n",
    "for vax in vaxVars:\n",
    "    # restrict encounters for flu season\n",
    "    if vax == 'FLU':\n",
    "        encs = 'NUM_FLU_ENCS'\n",
    "    else:\n",
    "        encs = 'NUM_OF_ENCS'\n",
    "    # Gather columns for the vaccine\n",
    "    cols = ['BASELINE', 'LOC_ID', 'N_PATIENT', encs]\n",
    "    cols.extend([\n",
    "        c for c in list(dfData)\n",
    "        if ((c.split('_', 1)[0] == vax) and (\"_DT\" not in c))\n",
    "    ])\n",
    "    # Start with empty dataframe\n",
    "    df = pd.DataFrame()\n",
    "    # Rename flu encs column so concat works\n",
    "    df = dfData[cols].rename(columns={'NUM_FLU_ENCS': 'NUM_OF_ENCS'})\n",
    "    # Converts vaccine-specific outcome list to general outcomes dict for column renaming\n",
    "    cols = {\n",
    "        col: col.split('_', 1)[1] if col.split('_', 1)[0] == vax else col\n",
    "        for col in cols\n",
    "    }\n",
    "    df = df.rename(columns=cols).rename(columns=columnLabels).rename(\n",
    "        columns={'N_PATIENT': 'Patients'})\n",
    "    # Reorder columns\n",
    "    df = df.reindex([\n",
    "        'Time period', 'Patients', 'Number of visits during time period',\n",
    "        'Vaccine eligible', 'Vaccine administered at a visit',\n",
    "        'Vaccine administered elsewhere', 'Immunized',\n",
    "        'Vaccine missed opportunities', 'Vaccination rate',\n",
    "        'Vaccine missed opportunities rate'\n",
    "    ],\n",
    "                    axis=1)\n",
    "    df = df.groupby(['Time period',\n",
    "                     ]).agg(['sum', 'mean', 'std', 'min', 'max', 'median'])\n",
    "    if vax != \"PCV\":\n",
    "        df['Vaccine'] = vax.capitalize()\n",
    "    else:\n",
    "        df['Vaccine'] = vax\n",
    "    df.set_index('Vaccine', append=True, inplace=True)\n",
    "    dfComb = dfComb.append(df).sort_index()\n",
    "# Drop sums that don't make sense\n",
    "dfComb.drop([('Vaccination rate', 'sum'),\n",
    "             ('Vaccine missed opportunities rate', 'sum')],\n",
    "            axis=1,\n",
    "            inplace=True)\n",
    "# Format columns\n",
    "idx = pd.IndexSlice\n",
    "dfComb = format_with_multiindex(\n",
    "    dfComb, multiCols=idx[:\"Vaccine missed opportunities\", :], fmt=\"{:,.2f}\")\n",
    "dfComb = format_with_multiindex(dfComb,\n",
    "                                multiCols=idx[\"Vaccination rate\":, :],\n",
    "                                fmt=\"{:,.4f}\")\n",
    "display(dfComb)\n",
    "\n",
    "# https://pbpython.com/improve-pandas-excel-output.html\n",
    "writer = pd.ExcelWriter(os.path.join(projectRoot, 'reports', 'tables',\n",
    "                                     'combined_outcomes.xlsx'))\n",
    "#                         engine='xlsxwriter')\n",
    "dfComb.to_excel(writer, sheet_name='combined')\n",
    "\n",
    "for c in list(dfComb.columns.levels[0]):\n",
    "    if c == 'Vaccine':\n",
    "        pass\n",
    "    else:\n",
    "        df = dfComb.loc[:,slice(c,c)]\n",
    "        display(df)\n",
    "        df.to_excel(writer, c[:15].replace(\" \", \"_\"))\n",
    "writer.save()"
   ]
  },
  {
   "cell_type": "code",
   "execution_count": null,
   "metadata": {},
   "outputs": [],
   "source": [
    "idx = pd.IndexSlice\n",
    "cols = (['Patients', 'Vaccine eligible', 'Immunized', 'Vaccination rate'], [\n",
    "    'Number of visits during time period', 'Vaccine administered at a visit',\n",
    "    'Vaccine missed opportunities rate'\n",
    "])\n",
    "for ls in cols:\n",
    "    df = dfComb.loc[idx[:, :, ], idx[ls, ['mean', 'std']]]\n",
    "    display(df)\n",
    "    #     df.to_excel(os.path.join(projectRoot, 'reports', 'tables', 'outcomes'+ str(len(ls)) +'.xlsx'))"
   ]
  },
  {
   "cell_type": "code",
   "execution_count": null,
   "metadata": {},
   "outputs": [],
   "source": [
    "# Patients by location\n",
    "df = dfComb['Patients'].droplevel('Vaccine').drop_duplicates()\n",
    "df.to_excel(\n",
    "    os.path.join(projectRoot, 'reports', 'tables', 'patientsXloc.xlsx'))"
   ]
  },
  {
   "cell_type": "markdown",
   "metadata": {},
   "source": [
    "### Differences before/after Intervention"
   ]
  },
  {
   "cell_type": "markdown",
   "metadata": {},
   "source": [
    "#### ANOVA tests of outcomes\n"
   ]
  },
  {
   "cell_type": "markdown",
   "metadata": {},
   "source": [
    "##### Compare WIC selection\n",
    "N=80 is ANOVA of strategy 2 (Exclude)  \n",
    "N=72 is ANOVA of strategy 3 (Drop)  \n",
    "Both return similar results.  \n",
    "Use Strategy 2 dfNoWic  "
   ]
  },
  {
   "cell_type": "code",
   "execution_count": null,
   "metadata": {},
   "outputs": [],
   "source": [
    "def find_sigs(df, groupers, outcomes, vaxVars, residual=False, show=False):\n",
    "    dfResults = pd.DataFrame()\n",
    "    for vax in vaxVars:\n",
    "        cols = [\n",
    "            outcome for outcome in outcomes if outcome.startswith(vax + '_')\n",
    "        ] + groupers\n",
    "        for col in cols:\n",
    "            if col not in groupers:\n",
    "                model = ols(col + ' ~ C(BASELINE)', data=df[cols]).fit()\n",
    "                summary = model.summary()\n",
    "                aov_table = sm.stats.anova_lm(model, typ=2)\n",
    "                aov_table['Outcome'] = col\n",
    "                dfResults = dfResults.append(aov_table)\n",
    "                if show == True:\n",
    "                    display(model.summary())\n",
    "    dfResults = dfResults.reset_index().rename(columns={'index': 'Group'})\n",
    "    if residual == False:\n",
    "        dfResults = dfResults[~(dfResults['Group'] == 'Residual')]\n",
    "    return dfResults"
   ]
  },
  {
   "cell_type": "code",
   "execution_count": null,
   "metadata": {},
   "outputs": [],
   "source": [
    "# Drop location over 5% difference\n",
    "dfData = diDfs['dfDropWic_Outcomes_Locs']\n",
    "len(dfData)\n",
    "vaxVars = ['FLU', 'PNEUMO', 'PCV', 'TDAP', 'TD', 'ZOST']\n",
    "idx = ['Outcome']\n",
    "df = find_sigs(dfData,\n",
    "               groupers=['BASELINE'],\n",
    "               outcomes=outcomes,\n",
    "               vaxVars=vaxVars,\n",
    "               show=True).replace(columnLabels).rename(columnLabels,\n",
    "                                                       axis=1).round(4)\n",
    "df = df[df['PR(>F)'] <= .05]\n",
    "df.set_index(idx)"
   ]
  },
  {
   "cell_type": "code",
   "execution_count": null,
   "metadata": {},
   "outputs": [],
   "source": [
    "# ANOVA of strategy 2 (Exclude)\n",
    "dfData = diDfs['dfNoWic_Outcomes_Locs']\n",
    "len(dfData)\n",
    "vaxVars = ['FLU', 'PNEUMO', 'PCV', 'TDAP', 'TD', 'ZOST']\n",
    "idx = ['Outcome']\n",
    "dfResult = find_sigs(dfData,\n",
    "                     groupers=['BASELINE'],\n",
    "                     outcomes=outcomes,\n",
    "                     vaxVars=vaxVars).replace(columnLabels).rename(\n",
    "                         columnLabels, axis=1).round(4)\n",
    "dfResult = dfResult[dfResult['PR(>F)'] <= .05]\n",
    "dfResult.set_index(idx)"
   ]
  },
  {
   "cell_type": "markdown",
   "metadata": {},
   "source": [
    "### All results"
   ]
  },
  {
   "cell_type": "code",
   "execution_count": null,
   "metadata": {},
   "outputs": [],
   "source": [
    "# Define data\n",
    "dfData = diDfs['dfNoWic_Outcomes_Locs']\n",
    "# display(dfData.set_index(['LOC_ID', 'BASELINE']).sort_index().head())\n",
    "vaxVars = ['FLU', 'PNEUMO', 'PCV', 'TDAP', 'TD', 'ZOST']\n",
    "idx = ['Group', 'Outcome']\n",
    "dfResult = find_sigs(dfData,\n",
    "                     groupers=['BASELINE'],\n",
    "                     outcomes=outcomes,\n",
    "                     vaxVars=vaxVars,\n",
    "                     show=False).round(4)\n",
    "\n",
    "# Generate analysis table\n",
    "dfAllResults = pd.DataFrame()\n",
    "for vax in vaxVars:\n",
    "    # Build df of outcome columns from observations\n",
    "    cols = ['BASELINE', 'LOC_ID']\n",
    "    cols.extend([\n",
    "        c for c in list(dfData)\n",
    "        if ((vax + '_' in c) and (c in list(dfResult['Outcome'])))\n",
    "    ])\n",
    "    dfAgg = dfData[cols].groupby('BASELINE').agg('mean')\n",
    "    dfAgg = dfAgg.sort_index(ascending=False).drop('LOC_ID', axis=1)\n",
    "    colFilter = [\n",
    "        c for c in list(dfAgg)\n",
    "        if ((c.endswith('VAX_RATE') | c.endswith('MISSED_OPS_RATE')))\n",
    "    ]\n",
    "    # Join observations with stats\n",
    "    if list(dfAgg[colFilter]) != []:\n",
    "        dfAllRes = dfResult[dfResult['Outcome'].isin(list(dfAgg[colFilter]))]\n",
    "        dfAllRes = dfAllRes.merge(dfAgg.round(4).transpose().reset_index(),\n",
    "                                  left_on='Outcome',\n",
    "                                  right_on='index')\n",
    "        # Add classifier columns\n",
    "        dfAllRes['Vaccine'] = vax\n",
    "        dfAllRes['Outcome'] = dfAllRes['Outcome'].str.replace(vax + '_', \"\")\n",
    "        dfAllResults = dfAllResults.append(dfAllRes)\n",
    "dfAllResults = dfAllResults[[\n",
    "    'Outcome', 'Baseline', 'Follow-up', 'sum_sq', 'df', 'F', 'PR(>F)',\n",
    "    'Vaccine'\n",
    "]].replace(columnLabels).rename(columnLabels, axis=1)\n",
    "\n",
    "# Mark significance\n",
    "mask = ((dfAllResults['PR(>F)'] < .05))\n",
    "dfAllResults.loc[mask, 'Significant < .05'] = '*'\n",
    "mask = ((dfAllResults['Outcome'] == 'Vaccination rate') &\n",
    "        (dfAllResults['PR(>F)'] < .05) & ((dfAllResults['Follow-up']) >\n",
    "                                          (dfAllResults['Baseline'])))\n",
    "dfAllResults.loc[mask, 'Significant < .05 in expected direction'] = '*'\n",
    "mask = ((dfAllResults['Outcome'] == 'Vaccine missed opportunities rate') &\n",
    "        (dfAllResults['PR(>F)'] < .05) & ((dfAllResults['Follow-up']) <\n",
    "                                          (dfAllResults['Baseline'])))\n",
    "dfAllResults.loc[mask, 'Significant < .05 in expected direction'] = '*'\n",
    "dfAllResults = dfAllResults.fillna('')\n",
    "display(dfAllResults.set_index(['Outcome', 'Vaccine']).sort_index())\n",
    "dfAllResults.set_index(['Outcome', 'Vaccine']).sort_index().to_excel(\n",
    "    os.path.join(projectRoot, 'reports', 'tables', 'allresults.xlsx'))"
   ]
  },
  {
   "cell_type": "code",
   "execution_count": null,
   "metadata": {},
   "outputs": [],
   "source": []
  }
 ],
 "metadata": {
  "gist": {
   "data": {
    "description": "notebooks/4Pillars_CMI_Analysis.ipynb",
    "public": false
   },
   "id": ""
  },
  "kernelspec": {
   "display_name": "Python [conda env:4Pillars_Outcomes]",
   "language": "python",
   "name": "conda-env-4Pillars_Outcomes-py"
  },
  "language_info": {
   "codemirror_mode": {
    "name": "ipython"
   },
   "file_extension": ".py",
   "mimetype": "text/x-python",
   "name": "python",
   "nbconvert_exporter": "python"
  }
 },
 "nbformat": 4,
 "nbformat_minor": 2
}
